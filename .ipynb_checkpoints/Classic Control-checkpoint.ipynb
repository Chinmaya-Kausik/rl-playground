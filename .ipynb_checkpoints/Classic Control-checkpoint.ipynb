{
 "cells": [
  {
   "cell_type": "code",
   "execution_count": 2,
   "id": "5eaae072",
   "metadata": {},
   "outputs": [],
   "source": [
    "import gymnasium as gym\n",
    "import numpy as np\n",
    "env = gym.make(\"CartPole-v1\", render_mode=\"human\")\n",
    "\n",
    "observation, info = env.reset(seed=42)\n",
    "frame = []\n",
    "for _ in range(500):\n",
    "    action = env.action_space.sample()\n",
    "    observation, reward, terminated, truncated, info = env.step(action)\n",
    "    frame.append(env.render())\n",
    "\n",
    "    if terminated:\n",
    "        observation, info = env.reset()\n",
    "    if truncated:\n",
    "        observation, info = env.reset()\n",
    "        \n",
    "env.close()"
   ]
  },
  {
   "cell_type": "code",
   "execution_count": null,
   "id": "df40970f",
   "metadata": {},
   "outputs": [],
   "source": [
    "# Create the environment\n",
    "env = gym.make(\"CartPole-v1\")\n",
    "\n",
    "# Get the state and action sizes\n",
    "state_size = env.observation_space.shape[0]\n",
    "action_size = env.action_space.n\n",
    "\n",
    "# Define the policy function (neural network)\n",
    "class Policy(nn.Module):\n",
    "    def __init__(self, use_activation = True):\n",
    "        super(Policy, self).__init__()\n",
    "        self.num_hidden_layers = 1\n",
    "        self.layers = []\n",
    "        self.layers.append(nn.Linear(state_size, 32))\n",
    "        self.layers.append(nn.Linear(32, action_size))\n",
    "\n",
    "    def forward(self, x):\n",
    "        if self.use_activation:\n",
    "            for idx, layer in enumerate(self.layers):\n",
    "                if idx!= self.num_hidden_layers:\n",
    "                    x = torch.relu(layer(x))\n",
    "            x = self.layers[-1](x)\n",
    "        else:\n",
    "            for idx, layer in enumerate(self.layers):\n",
    "                if idx!= self.num_hidden_layers:\n",
    "                    x = layer(x)\n",
    "            x = self.layers[-1](x)\n",
    "            \n",
    "        return torch.softmax(x, dim=-1)\n",
    "\n",
    "policy = Policy()\n"
   ]
  },
  {
   "cell_type": "code",
   "execution_count": 17,
   "id": "a3af0045",
   "metadata": {},
   "outputs": [],
   "source": [
    "import gymnasium as gym\n",
    "env = gym.make(\"MountainCarContinuous-v0\", render_mode=\"human\")\n",
    "\n",
    "observation, info = env.reset(seed=42)\n",
    "frame = []\n",
    "for _ in range(500):\n",
    "    action = env.action_space.sample()\n",
    "    observation, reward, terminated, truncated, info = env.step(action)\n",
    "    #frame.append(env.render())\n",
    "\n",
    "    if terminated or truncated:\n",
    "        observation, info = env.reset()\n",
    "env.close()"
   ]
  },
  {
   "cell_type": "code",
   "execution_count": 21,
   "id": "f083db1a",
   "metadata": {},
   "outputs": [
    {
     "data": {
      "text/plain": [
       "(1,)"
      ]
     },
     "execution_count": 21,
     "metadata": {},
     "output_type": "execute_result"
    }
   ],
   "source": [
    "np.array([1]).shape"
   ]
  },
  {
   "cell_type": "code",
   "execution_count": 31,
   "id": "d0da9b44",
   "metadata": {},
   "outputs": [],
   "source": [
    "import torch\n",
    "\n",
    "def policy()"
   ]
  },
  {
   "cell_type": "code",
   "execution_count": null,
   "id": "cb667663",
   "metadata": {},
   "outputs": [],
   "source": []
  }
 ],
 "metadata": {
  "kernelspec": {
   "display_name": "Python 3 (ipykernel)",
   "language": "python",
   "name": "python3"
  },
  "language_info": {
   "codemirror_mode": {
    "name": "ipython",
    "version": 3
   },
   "file_extension": ".py",
   "mimetype": "text/x-python",
   "name": "python",
   "nbconvert_exporter": "python",
   "pygments_lexer": "ipython3",
   "version": "3.10.2"
  }
 },
 "nbformat": 4,
 "nbformat_minor": 5
}

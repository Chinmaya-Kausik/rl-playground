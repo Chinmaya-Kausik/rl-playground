{
 "cells": [
  {
   "cell_type": "code",
   "execution_count": 1,
   "metadata": {},
   "outputs": [],
   "source": [
    "import numpy as np\n",
    "\n",
    "def value_iteration(env, gamma=1, theta=1e-6):\n",
    "    \"\"\"\n",
    "    Perform value iteration for a given discrete MDP.\n",
    "\n",
    "    Parameters:\n",
    "    env: Custom environment with methods:\n",
    "        - env.nS: Number of states\n",
    "        - env.nA: Number of actions\n",
    "        - env.P: Transition probabilities, rewards, etc.\n",
    "    gamma: Discount factor\n",
    "    theta: Stopping threshold\n",
    "\n",
    "    Returns:\n",
    "    V: Value function\n",
    "    policy: Optimal policy\n",
    "    \"\"\"\n",
    "    # Initialize value function and policy\n",
    "    V = np.zeros(env.nS)\n",
    "    policy = np.zeros(env.nS, dtype=int)\n",
    "\n",
    "    while True:\n",
    "        delta = 0\n",
    "        # Loop over all states\n",
    "        for s in range(env.nS):\n",
    "            v = V[s]\n",
    "            \n",
    "            # Placeholder for state-action value function\n",
    "            state_action_values = np.zeros(env.nA)\n",
    "\n",
    "            # Loop over all actions\n",
    "            for a in range(env.nA):\n",
    "                \n",
    "                # Expected value for action a in state s\n",
    "                for prob, next_state, reward, done in env.P[s][a]:\n",
    "                    state_action_values[a] += prob * (reward + gamma * V[next_state] * (not done))\n",
    "                    \n",
    "            # Update the value for state s\n",
    "            V[s] = np.max(state_action_values)\n",
    "            \n",
    "            # Track maximum change for convergence\n",
    "            delta = max(delta, abs(v - V[s]))\n",
    "\n",
    "        # Check for convergence\n",
    "        if delta < theta:\n",
    "            break\n",
    "\n",
    "    # Derive the optimal policy from the value function\n",
    "    for s in range(env.nS):\n",
    "        state_action_values = np.zeros(env.nA)\n",
    "        \n",
    "        for a in range(env.nA):\n",
    "            for prob, next_state, reward, done in env.P[s][a]:\n",
    "                state_action_values[a] += prob * (reward + gamma * V[next_state] * (not done))\n",
    "                \n",
    "        policy[s] = np.argmax(state_action_values)\n",
    "\n",
    "    return V, policy\n",
    "\n",
    "# Example custom environment details (to be filled in):\n",
    "# class CustomMDPEnv:\n",
    "#     def __init__(self):\n",
    "#         self.nS = ...\n",
    "#         self.nA = ...\n",
    "#         self.P = ...\n",
    "# \n",
    "# env = CustomMDPEnv()\n",
    "\n",
    "# V, policy = value_iteration(env)\n",
    "# print(\"Optimal Value Function: \", V)\n",
    "# print(\"Optimal Policy: \", policy)"
   ]
  },
  {
   "cell_type": "code",
   "execution_count": 9,
   "metadata": {},
   "outputs": [],
   "source": [
    "P = [[[] for _ in range(2)] for _ in range(36)]\n",
    "for i in range(36):\n",
    "    for a in range(2):\n",
    "        for j in range(36):\n",
    "            (a_i, b_i) = (i//6 + 1, i%6 + 1)\n",
    "            (a_j, b_j) = (j//6 + 1, j%6 + 1)\n",
    "            done = False\n",
    "            prob = 0\n",
    "            reward = 0\n",
    "            \n",
    "            if a_j == b_i:\n",
    "                prob = 1.0/6\n",
    "        \n",
    "            if a==1 and b_i != 6:\n",
    "                reward = a_i\n",
    "                done = True\n",
    "            \n",
    "            if b_i == 6 or b_j == 6:\n",
    "                done = True\n",
    "\n",
    "            P[i][a].append((prob, j, reward, done)) \n",
    "\n",
    "class CustomMDPEnv:\n",
    "    def __init__(self):\n",
    "        self.nS = 36\n",
    "        self.nA = 2\n",
    "        self.P = P\n",
    "\n",
    "env = CustomMDPEnv()"
   ]
  },
  {
   "cell_type": "code",
   "execution_count": 10,
   "metadata": {},
   "outputs": [
    {
     "name": "stdout",
     "output_type": "stream",
     "text": [
      "Optimal Value Function:  [2.50188088 2.50188096 2.71352812 3.320625   4.125      0.\n",
      " 2.50188097 2.50188097 2.71352812 3.320625   4.125      0.\n",
      " 3.         3.         3.         3.320625   4.125      0.\n",
      " 4.         4.         4.         4.         4.125      0.\n",
      " 5.         5.         5.         5.         5.         0.\n",
      " 6.         6.         6.         6.         6.         0.        ]\n",
      "Optimal Policy:  [0 0 0 0 0 0 0 0 0 0 0 0 1 1 1 0 0 0 1 1 1 1 0 0 1 1 1 1 1 0 1 1 1 1 1 0]\n"
     ]
    }
   ],
   "source": [
    "V, policy = value_iteration(env)\n",
    "print(\"Optimal Value Function: \", V)\n",
    "print(\"Optimal Policy: \", policy)"
   ]
  },
  {
   "cell_type": "code",
   "execution_count": 13,
   "metadata": {},
   "outputs": [
    {
     "name": "stdout",
     "output_type": "stream",
     "text": [
      "3.3860126397153962\n"
     ]
    }
   ],
   "source": [
    "print(sum(V)/36)"
   ]
  },
  {
   "cell_type": "code",
   "execution_count": 15,
   "metadata": {},
   "outputs": [
    {
     "data": {
      "text/plain": [
       "[(0, np.int64(0)),\n",
       " (1, np.int64(0)),\n",
       " (2, np.int64(0)),\n",
       " (3, np.int64(0)),\n",
       " (4, np.int64(0)),\n",
       " (5, np.int64(0)),\n",
       " (6, np.int64(0)),\n",
       " (7, np.int64(0)),\n",
       " (8, np.int64(0)),\n",
       " (9, np.int64(0)),\n",
       " (10, np.int64(0)),\n",
       " (11, np.int64(0)),\n",
       " (12, np.int64(1)),\n",
       " (13, np.int64(1)),\n",
       " (14, np.int64(1)),\n",
       " (15, np.int64(0)),\n",
       " (16, np.int64(0)),\n",
       " (17, np.int64(0)),\n",
       " (18, np.int64(1)),\n",
       " (19, np.int64(1)),\n",
       " (20, np.int64(1)),\n",
       " (21, np.int64(1)),\n",
       " (22, np.int64(0)),\n",
       " (23, np.int64(0)),\n",
       " (24, np.int64(1)),\n",
       " (25, np.int64(1)),\n",
       " (26, np.int64(1)),\n",
       " (27, np.int64(1)),\n",
       " (28, np.int64(1)),\n",
       " (29, np.int64(0)),\n",
       " (30, np.int64(1)),\n",
       " (31, np.int64(1)),\n",
       " (32, np.int64(1)),\n",
       " (33, np.int64(1)),\n",
       " (34, np.int64(1)),\n",
       " (35, np.int64(0))]"
      ]
     },
     "execution_count": 15,
     "metadata": {},
     "output_type": "execute_result"
    }
   ],
   "source": [
    "list(enumerate(policy))"
   ]
  },
  {
   "cell_type": "code",
   "execution_count": null,
   "metadata": {},
   "outputs": [],
   "source": []
  }
 ],
 "metadata": {
  "kernelspec": {
   "display_name": "base",
   "language": "python",
   "name": "python3"
  },
  "language_info": {
   "codemirror_mode": {
    "name": "ipython",
    "version": 3
   },
   "file_extension": ".py",
   "mimetype": "text/x-python",
   "name": "python",
   "nbconvert_exporter": "python",
   "pygments_lexer": "ipython3",
   "version": "3.11.5"
  }
 },
 "nbformat": 4,
 "nbformat_minor": 2
}

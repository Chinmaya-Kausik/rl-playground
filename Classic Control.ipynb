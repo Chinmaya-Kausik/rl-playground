{
 "cells": [
  {
   "cell_type": "code",
   "execution_count": 30,
   "id": "5eaae072",
   "metadata": {},
   "outputs": [
    {
     "name": "stdout",
     "output_type": "stream",
     "text": [
      "terminated 0\n",
      "terminated 1\n",
      "terminated 2\n",
      "terminated 3\n",
      "terminated 4\n",
      "terminated 5\n",
      "terminated 6\n",
      "terminated 7\n",
      "terminated 8\n",
      "terminated 9\n",
      "terminated 10\n",
      "terminated 11\n",
      "terminated 12\n",
      "terminated 13\n",
      "terminated 14\n",
      "terminated 15\n",
      "terminated 16\n",
      "terminated 17\n",
      "terminated 18\n",
      "terminated 19\n",
      "terminated 20\n",
      "terminated 21\n",
      "terminated 22\n"
     ]
    }
   ],
   "source": [
    "import gymnasium as gym\n",
    "import numpy as np\n",
    "env = gym.make(\"CartPole-v1\", render_mode=\"human\")\n",
    "\n",
    "observation, info = env.reset(seed=42)\n",
    "frame = []\n",
    "for _ in range(500):\n",
    "    action = env.action_space.sample()\n",
    "    observation, reward, terminated, truncated, info = env.step(action)\n",
    "    #frame.append(env.render())\n",
    "\n",
    "    if terminated:\n",
    "        observation, info = env.reset()\n",
    "    if truncated:\n",
    "        observation, info = env.reset()\n",
    "        \n",
    "env.close()"
   ]
  },
  {
   "cell_type": "code",
   "execution_count": 17,
   "id": "a3af0045",
   "metadata": {},
   "outputs": [],
   "source": [
    "import gymnasium as gym\n",
    "env = gym.make(\"MountainCarContinuous-v0\", render_mode=\"human\")\n",
    "\n",
    "observation, info = env.reset(seed=42)\n",
    "frame = []\n",
    "for _ in range(500):\n",
    "    action = env.action_space.sample()\n",
    "    observation, reward, terminated, truncated, info = env.step(action)\n",
    "    #frame.append(env.render())\n",
    "\n",
    "    if terminated or truncated:\n",
    "        observation, info = env.reset()\n",
    "env.close()"
   ]
  },
  {
   "cell_type": "code",
   "execution_count": 21,
   "id": "f083db1a",
   "metadata": {},
   "outputs": [
    {
     "data": {
      "text/plain": [
       "(1,)"
      ]
     },
     "execution_count": 21,
     "metadata": {},
     "output_type": "execute_result"
    }
   ],
   "source": [
    "np.array([1]).shape"
   ]
  },
  {
   "cell_type": "code",
   "execution_count": 31,
   "id": "d0da9b44",
   "metadata": {},
   "outputs": [],
   "source": [
    "import torch\n",
    "\n",
    "def policy()"
   ]
  },
  {
   "cell_type": "code",
   "execution_count": null,
   "id": "cb667663",
   "metadata": {},
   "outputs": [],
   "source": []
  }
 ],
 "metadata": {
  "kernelspec": {
   "display_name": "Python 3 (ipykernel)",
   "language": "python",
   "name": "python3"
  },
  "language_info": {
   "codemirror_mode": {
    "name": "ipython",
    "version": 3
   },
   "file_extension": ".py",
   "mimetype": "text/x-python",
   "name": "python",
   "nbconvert_exporter": "python",
   "pygments_lexer": "ipython3",
   "version": "3.10.2"
  }
 },
 "nbformat": 4,
 "nbformat_minor": 5
}
